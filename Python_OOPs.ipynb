{
  "nbformat": 4,
  "nbformat_minor": 0,
  "metadata": {
    "colab": {
      "provenance": []
    },
    "kernelspec": {
      "name": "python3",
      "display_name": "Python 3"
    },
    "language_info": {
      "name": "python"
    }
  },
  "cells": [
    {
      "cell_type": "markdown",
      "source": [
        "1. Whatis Object- Oriented Programming (OOP)?\n",
        "- OOP is the usage of objects to deisgn and structure our code. This helps in our code being resuable, organized and easy to use.\n",
        "\n",
        "2. What is a class in OOP?\n",
        "- The class is a user-defined data structure that combines the methods and data members into a single\n",
        "entity. For the production of objects, classes serve as blueprints or code templates.\n",
        "\n",
        "3. What is an object in OOP?\n",
        "- It is an instance of a class.  It consists of a set of methods and attributes. Actions are carried\n",
        "out using a class's object\n",
        "\n",
        "4. What is the difference between abstraction and encapsulation?\n",
        "- Abstarction- It hides comples information and shows only necessary info.\n",
        "- Encapsulation- It protects data by resrict direct access and allow modification by methods only.\n",
        "\n",
        "5. What are dundler methods in Python?\n",
        "- Dunder methods, also known as magic methods or special methods, in Python are special reserved methods\n",
        "that are surrounded by double underscores (i.e., __method__). These methods allow us to define how\n",
        "instances of our classes behave when they are used with built-in Python functions or operators.\n",
        "\n",
        "6. Explain the concept of inheritance in OOP.\n",
        "- Inheritance in Python refer to the process of a child class receiving the parent class's properties.\n",
        "\n",
        "\n",
        "7. What is polymorphism in OOP?\n",
        "- In OOP, polymorphism refers to an object's capacity to assume several forms.\n",
        "\n",
        "8. How is encapsualtion achieved in Python?\n",
        "-  A class's data members and methods can be made private or protected in\n",
        "order to achieve encapsulation. Direct access modifiers like public, private, and protected don't exist in Python,\n",
        "though. Single and double underscores can be used to accomplish this.\n",
        "\n",
        "9. What is a constructor in Python?\n",
        "\n",
        "10. What are class and static methods in Python?\n",
        "- **Class methods**- Class methods are methods that are bound to the class and not the instance of the class. They can access or modify class state that applies across all instances of the class. Class methods are defined using the @classmethod decorator.\n",
        "- __Static Method__- Static methods are methods that belong to the class and don't access or modify class or instance state. They are defined using the @staticmethod decorator.\n",
        "\n",
        "11. What is method overloading in Python?\n",
        "-  Method overloading is the practice of invoking the same method more than once with different parameters. Method overloading is not supported by Python, it only takes into account the most recent definition. If we overload a method in Python, a TypeError will be raised.\n",
        "\n",
        "12. What is method overriding in Python?\n",
        "-  In Python, method overriding is the process of providing a different implementation for a method that is already defined in the superclass within a subclass. It enables the subclass to define its own version of a method with the same name and parameters as the method in the superclass.\n",
        "\n",
        "13. What is property decorator in Pyhton?\n",
        "- The @property decorator allows us to define a method that acts like an attribute, so we can access it without parentheses.\n",
        "\n",
        "14. Why is polymorphism important in Python?\n",
        "- polymorphism enables us to carry out a single activity in a variety of ways\n",
        "\n",
        "15. What is an abstract class in Python?\n",
        "- An abstract class is a class that cannot be directly used to create objects. It contains abstract methods that must be implemented in child classes.\n",
        "\n",
        "16. What are the advantages of OOP?\n",
        "- Code reusability (Inheritance), Better data protection (Encapsulation), Easy to update and manage, Organized and modular code.\n",
        "\n",
        "17. What is the difference between a class variable and an instance variable?\n",
        "- Class variable: Shared among all objects of the class.\n",
        "- Instance variable: Unique to each object.\n",
        "\n",
        "18. What is multiple inheritance in Python?\n",
        "- One child class may inherit from several parent classes when there is multiple inheritance\n",
        "\n",
        "19. Expalin the purpose of \"__str__'and'__repr__\" methods in Python?\n",
        "- __str__(self): This method is called when the str() function is used on an instance of the class. It should return a string representation of the object.\n",
        "- __repr__(self): This method is called when the repr() function is used on an instance of the class. It should return an unambiguous string representation of the object, which can be used to ecreate the object.\n",
        "\n",
        "20. What is the significance of the 'super()' function in Pyhton?\n",
        "- super() helps access methods from the parent class without explicitly naming the parent class.\n",
        "\n",
        "21. WHat is the significance of the __del__ methods in Python?\n",
        "- The __del__ method is a destructor that runs when an object is deleted, helping in cleanup tasks.\n",
        "\n",
        "22. What is the difference between @staticmethod and @classmethod in Python?\n",
        "- @staticmethod: It is a general utility method that handles a single task. Since this method is static and doesn't have access to class attributes, we don't use instance or class variables within it.\n",
        "\n",
        "- @classmethod:  used to access or alter the class state. If we exclusively use class variables when implementing a method, we should declare that method as a class method.\n",
        "\n",
        "23. How does polymorphism work in Python with inheritance?\n",
        "- Inheritance is the primary application of polymorphism. The traits and methods of a parent class are passed down to a child class through inheritance. A subclass, child class, or derived class is a new class that is created from an existing class, which is referred to as a base class or parent class.\n",
        "\n",
        "24. What is method chaining in Pyhton OOP?\n",
        "- Method chaining allows multiple methods to be called on the same object in a single line.\n",
        "\n",
        "25. What is the purpose of the __call__ method in Python?\n",
        "- The __call__ method allows an object to be used like a function, meaning you can call an instance as if it were a function.\n",
        "\n"
      ],
      "metadata": {
        "id": "UzCU1Rq4WiDQ"
      }
    },
    {
      "cell_type": "code",
      "source": [
        "# 1.  Create a parent class Animal with a method speak() that prints a generic message. Create a child class Dog\n",
        "# that overrides the speak() method to print \"Bark!\".\n",
        "class animal:\n",
        "    def speak(self):\n",
        "        print(\"sound\")\n",
        "class dog(animal):\n",
        "    def speak(self):\n",
        "        print(\"bark\")\n",
        "animal= animal()\n",
        "animal.speak()\n",
        "dog= dog()\n",
        "dog.speak()"
      ],
      "metadata": {
        "colab": {
          "base_uri": "https://localhost:8080/"
        },
        "id": "jPDzuwk0sUr6",
        "outputId": "ecf07d24-36ef-4352-d5e9-a238e96c9cf3"
      },
      "execution_count": 14,
      "outputs": [
        {
          "output_type": "stream",
          "name": "stdout",
          "text": [
            "sound\n",
            "bark\n"
          ]
        }
      ]
    },
    {
      "cell_type": "code",
      "source": [
        "# 2. Write a program to create an abstract class Shape with a method area(). Derive classes Circle and Rectangle\n",
        "# from it and implement the area() method in both.\n",
        "#use case\n",
        "from abc import ABC, abstractmethod\n",
        "\n",
        "# Abstract class\n",
        "class Shape(ABC):\n",
        "    @abstractmethod\n",
        "    def area(self):\n",
        "        pass  # This method must be implemented in child classes\n",
        "\n",
        "# Circle class implementing area method\n",
        "class Circle(Shape):\n",
        "    def __init__(self, radius):\n",
        "        self.radius = radius\n",
        "\n",
        "    def area(self):\n",
        "        return 3.14 * self.radius * self.radius\n",
        "\n",
        "# Rectangle class implementing area method\n",
        "class Rectangle(Shape):\n",
        "    def __init__(self, length, width):\n",
        "        self.length = length\n",
        "        self.width = width\n",
        "\n",
        "    def area(self):\n",
        "        return self.length * self.width\n",
        "\n",
        "# Creating objects\n",
        "circle = Circle(10)\n",
        "rectangle = Rectangle(2, 4)\n",
        "\n",
        "# Calling area methods\n",
        "print(\"Circle Area:\", circle.area())\n",
        "print(\"Rectangle Area:\", rectangle.area())\n"
      ],
      "metadata": {
        "colab": {
          "base_uri": "https://localhost:8080/"
        },
        "id": "L5iCrDuiSc3R",
        "outputId": "3daa95c7-53f8-41f2-8a3e-d3f210c145c9"
      },
      "execution_count": 19,
      "outputs": [
        {
          "output_type": "stream",
          "name": "stdout",
          "text": [
            "Circle Area: 314.0\n",
            "Rectangle Area: 8\n"
          ]
        }
      ]
    },
    {
      "cell_type": "code",
      "source": [
        "# 3.  Implement a multi-level inheritance scenario where a class Vehicle has an attribute type. Derive a class Car\n",
        "# and further derive a class ElectricCar that adds a battery attribute.\n",
        "\n",
        "class Vehicle:\n",
        "    def vehicle_info(self):\n",
        "        print(\"Inside vehicle class\")\n",
        "class Car(Vehicle):\n",
        "    def car_info(self):\n",
        "        print(\"Inside the car class\")\n",
        "class ElectricCar(Car):\n",
        "    def electric_battery_info(self):\n",
        "        print(\"Inside eletric car\")\n",
        "s1 = ElectricCar()\n",
        "s1.electric_battery_info()\n",
        "s1.vehicle_info()\n",
        "s1.car_info()"
      ],
      "metadata": {
        "colab": {
          "base_uri": "https://localhost:8080/"
        },
        "id": "OOTEdbbuSfjR",
        "outputId": "6e200d66-ab46-4f4b-a03d-3a8c4d567bda"
      },
      "execution_count": 22,
      "outputs": [
        {
          "output_type": "stream",
          "name": "stdout",
          "text": [
            "Inside eletric car\n",
            "Inside vehicle class\n",
            "Inside the car class\n"
          ]
        }
      ]
    },
    {
      "cell_type": "code",
      "source": [
        "# 4.  Implement a multi-level inheritance scenario where a class Vehicle has an attribute type. Derive a class Car\n",
        "#and further derive a class ElectricCar that adds a battery attribute.\n",
        "# repeat\n"
      ],
      "metadata": {
        "id": "Jk2x_m6QSiYT"
      },
      "execution_count": null,
      "outputs": []
    },
    {
      "cell_type": "code",
      "source": [
        "# 5.  Write a program to demonstrate encapsulation by creating a class BankAccount with private attributes\n",
        "#balance and methods to deposit, withdraw, and check balance.\n",
        "class Bank: #either you deposit or withdraw\n",
        "\n",
        "    def __init__(self, balance):\n",
        "        self.__balance = balance\n",
        "\n",
        "    def deposit(self, amount): #amount is new deposition\n",
        "        self.__balance = self.__balance + amount\n",
        "\n",
        "    def withdraw(self, amount):\n",
        "        if self.__balance >= amount:\n",
        "            self.__balance = self.__balance - amount\n",
        "            return True\n",
        "        else:\n",
        "            return False\n",
        "\n",
        "    def get_balance(self):\n",
        "        return self.__balance\n",
        "\n",
        "acc1 = Bank(1000)\n",
        "acc1.get_balance() # balance is 1000\n",
        "acc1.deposit(500)\n",
        "acc1.get_balance() # balance is 1500\n",
        "acc1.withdraw(100)\n",
        "acc1.get_balance() # balance is 1400\n",
        "acc1.withdraw(1500)\n",
        "acc1.withdraw(1500) # false, protected within the class and its subclass"
      ],
      "metadata": {
        "colab": {
          "base_uri": "https://localhost:8080/"
        },
        "id": "5jY9Qg8MSlKC",
        "outputId": "a8695d94-6812-45b5-a024-16b8ae3f249a"
      },
      "execution_count": 24,
      "outputs": [
        {
          "output_type": "execute_result",
          "data": {
            "text/plain": [
              "1400"
            ]
          },
          "metadata": {},
          "execution_count": 24
        }
      ]
    },
    {
      "cell_type": "code",
      "source": [
        "# 6. Demonstrate runtime polymorphism using a method play() in a base class Instrument. Derive classes Guitar\n",
        "#and Piano that implement their own version of play().\n",
        "\n",
        "class Instrument:\n",
        "    def play(self):\n",
        "        print(\"Instrument is playing\")\n",
        "\n",
        "class Guitar(Instrument):\n",
        "    def play(self):\n",
        "        print(\"Guitar is playing\")\n",
        "\n",
        "class Piano(Instrument):\n",
        "    def play(self):\n",
        "        print(\"Piano is playing\")"
      ],
      "metadata": {
        "id": "DMixOpvESowx"
      },
      "execution_count": 25,
      "outputs": []
    },
    {
      "cell_type": "code",
      "source": [
        "# 7.  Create a class MathOperations with a class method add_numbers() to add two numbers and a static\n",
        "#method subtract_numbers() to subtract two numbers\n",
        "\n",
        "class MathOperations:\n",
        "    @classmethod\n",
        "    def add_numbers(cls, a, b):\n",
        "        return a + b\n",
        "\n",
        "    @staticmethod\n",
        "    def subtract_numbers(a, b):\n",
        "        return a - b"
      ],
      "metadata": {
        "id": "g9aq7wzASr25"
      },
      "execution_count": 26,
      "outputs": []
    },
    {
      "cell_type": "code",
      "source": [
        "# 8.  Implement a class Person with a class method to count the total number of persons created.\n",
        "\n",
        "class Person:\n",
        "    count = 0\n",
        "\n",
        "    def __init__(self):\n",
        "        Person.count += 1\n",
        "\n",
        "    @classmethod\n",
        "    def get_count(cls):\n",
        "        return cls.count"
      ],
      "metadata": {
        "id": "hF5gQB8aSu8R"
      },
      "execution_count": 27,
      "outputs": []
    },
    {
      "cell_type": "code",
      "source": [
        "# 9. Write a class Fraction with attributes numerator and denominator. Override the str method to display the\n",
        "#fraction as \"numerator/denominator\".\n",
        "class Fraction:\n",
        "    def __init__(self, numerator, denominator):\n",
        "        if denominator == 0:\n",
        "            raise ValueError(\"Denominator cannot be zero!\")\n",
        "        self.numerator = numerator\n",
        "        self.denominator = denominator\n",
        "    def __str__(self):\n",
        "        return f\"{self.numerator}/{self.denominator}\"\n",
        "frac1 = Fraction(3, 4) # Creating Fraction objects\n",
        "frac2 = Fraction(5, 8)\n",
        "print(frac1) # Printing fractions\n",
        "print(frac2)\n"
      ],
      "metadata": {
        "colab": {
          "base_uri": "https://localhost:8080/"
        },
        "id": "JFDz0ItjmpyK",
        "outputId": "03d24eb3-eba2-4a90-a597-a5ffd3640a5a"
      },
      "execution_count": 30,
      "outputs": [
        {
          "output_type": "stream",
          "name": "stdout",
          "text": [
            "3/4\n",
            "5/8\n"
          ]
        }
      ]
    },
    {
      "cell_type": "code",
      "source": [
        "# 10. Demonstrate operator overloading by creating a class Vector and overriding the add method to add two\n",
        "#vectors.\n",
        "\n"
      ],
      "metadata": {
        "id": "hxF1rNpJnTzs"
      },
      "execution_count": null,
      "outputs": []
    },
    {
      "cell_type": "code",
      "source": [
        "# 11.  Create a class Person with attributes name and age. Add a method greet() that prints \"Hello, my name is\n",
        "#{name} and I am {age} years old.\"\n",
        "\n",
        "class Person:\n",
        "    def __init__(self, name, age):\n",
        "        self.name = name\n",
        "        self.age = age\n",
        "    def greet(self):\n",
        "        print(f\"Hello, my name is {self.name} and I am {self.age} years old.\")\n",
        "person1 = Person(\"ajay\", 30) # Creating a Person object\n",
        "person1.greet()  # Calling the greet method"
      ],
      "metadata": {
        "colab": {
          "base_uri": "https://localhost:8080/"
        },
        "id": "Q1x0VaZfS3HZ",
        "outputId": "b7078a56-198e-4c88-fb60-8694582f364b"
      },
      "execution_count": 31,
      "outputs": [
        {
          "output_type": "stream",
          "name": "stdout",
          "text": [
            "Hello, my name is ajay and I am 30 years old.\n"
          ]
        }
      ]
    },
    {
      "cell_type": "code",
      "source": [
        "# 12.  Implement a class Student with attributes name and grades. Create a method average_grade() to compute\n",
        "#the average of the grades.\n",
        "\n",
        "class Student:\n",
        "    def __init__(self, name, grades):\n",
        "        self.name = name\n",
        "        self.grades = grades\n",
        "    def average_grade(self):\n",
        "        return sum(self.grades) / len(self.grades)\n",
        "student1 = Student(\"ajay\", [110, 20, 35 ,40]) # Creating a Student object\n",
        "avg = student1.average_grade() # Calling the average_grade method\n",
        "print(f\"{student1.name}'s average grade is: {avg:.2f}\")"
      ],
      "metadata": {
        "colab": {
          "base_uri": "https://localhost:8080/"
        },
        "id": "Ih3harbqS8HE",
        "outputId": "da537603-df0c-4429-bc60-559e349cbc92"
      },
      "execution_count": 33,
      "outputs": [
        {
          "output_type": "stream",
          "name": "stdout",
          "text": [
            "ajay's average grade is: 51.25\n"
          ]
        }
      ]
    },
    {
      "cell_type": "code",
      "source": [
        "# 13. Create a class Rectangle with methods set_dimensions() to set the dimensions and area() to calculate the\n",
        "#area.\n",
        "\n",
        "class Rectangle:\n",
        "    def __init__(self):\n",
        "        self.length = 0\n",
        "        self.width = 0\n",
        "    def set_dimensions(self, length, width):\n",
        "        self.length = length\n",
        "        self.width = width"
      ],
      "metadata": {
        "id": "heKH49Y6S-e2"
      },
      "execution_count": 34,
      "outputs": []
    },
    {
      "cell_type": "code",
      "source": [
        "# 14. Create a class Employee with a method calculate_salary() that computes the salary based on hours worked\n",
        "#and hourly rate. Create a derived class Manager that adds a bonus to the salary\n",
        "\n"
      ],
      "metadata": {
        "id": "4_Z_MVDiTA2N"
      },
      "execution_count": null,
      "outputs": []
    },
    {
      "cell_type": "code",
      "source": [
        "# 15. Create a class Product with attributes name, price, and quantity. Implement a method total_price() that\n",
        "#calculates the total price of the product.\n",
        "\n",
        "class Product:\n",
        "    def __init__(self, name, price, quantity):\n",
        "        self.name = name\n",
        "        self.price = price\n",
        "        self.quantity = quantity\n",
        "    def total_price(self):\n",
        "        return self.price * self.quantity\n",
        "product1 = Product(\"Bottle\", 500, 3) # Creating a Product object\n",
        "total = product1.total_price() # Calculating the total price\n",
        "print(f\"The total price of {product1.name} is: rs.{total}\")\n"
      ],
      "metadata": {
        "colab": {
          "base_uri": "https://localhost:8080/"
        },
        "id": "sfcrRZ0ro1AB",
        "outputId": "b1629575-1cd3-43f5-e0ff-833677b5b189"
      },
      "execution_count": 36,
      "outputs": [
        {
          "output_type": "stream",
          "name": "stdout",
          "text": [
            "The total price of Bottle is: rs.1500\n"
          ]
        }
      ]
    },
    {
      "cell_type": "code",
      "source": [
        "# 16. Create a class Animal with an abstract method sound(). Create two derived classes Cow and Sheep that\n",
        "#implement the sound() method.\n",
        "\n",
        "class Animal:\n",
        "    def sound(self):\n",
        "        pass\n",
        "class Cow(Animal):\n",
        "    def sound(self):\n",
        "        print(\"Mo\")\n",
        "class Sheep(Animal):\n",
        "    def sound(self):\n",
        "        print(\"Ba\")"
      ],
      "metadata": {
        "id": "QfUL3kdMTFs9"
      },
      "execution_count": 38,
      "outputs": []
    },
    {
      "cell_type": "code",
      "source": [
        "# 17. Create a class Book with attributes title, author, and year_published. Add a method get_book_info() that\n",
        "#returns a formatted string with the book's details.\n",
        "\n",
        "class Book:\n",
        "    def __init__(self, title, author, year_published):\n",
        "        self.title = title\n",
        "        self.author = author\n",
        "        self.year_published = year_published\n",
        "    def get_book_info(self):\n",
        "        return f\"Title: {self.title}\\nAuthor: {self.author}\\nYear Published: {self.year_published}\"\n",
        "book1 = Book(\"abc\", \"Ajay\", 2025) # Creating a Book object\n",
        "info = book1.get_book_info() # Calling the get_book_info method\n",
        "print(info)\n"
      ],
      "metadata": {
        "colab": {
          "base_uri": "https://localhost:8080/"
        },
        "id": "UjHt05kZTH_u",
        "outputId": "22b6dfcf-b166-4511-b64a-30318841b711"
      },
      "execution_count": 39,
      "outputs": [
        {
          "output_type": "stream",
          "name": "stdout",
          "text": [
            "Title: abc\n",
            "Author: Ajay\n",
            "Year Published: 2025\n"
          ]
        }
      ]
    },
    {
      "cell_type": "code",
      "source": [
        "# 18.  Create a class House with attributes address and price. Create a derived class Mansion that adds an\n",
        "#attribute number_of_rooms.\n",
        "\n"
      ],
      "metadata": {
        "id": "ZPdI_cD6TKKn"
      },
      "execution_count": null,
      "outputs": []
    }
  ]
}